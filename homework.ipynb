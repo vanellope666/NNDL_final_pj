{
 "cells": [
  {
   "cell_type": "code",
   "execution_count": 2,
   "metadata": {
    "ExecuteTime": {
     "end_time": "2021-06-17T05:36:11.218737Z",
     "start_time": "2021-06-17T05:36:10.208084Z"
    }
   },
   "outputs": [
    {
     "name": "stdout",
     "output_type": "stream",
     "text": [
      "1.1.0\n"
     ]
    }
   ],
   "source": [
    "import torch\n",
    "import torch.nn.functional as F\n",
    "import torchvision\n",
    "import torchvision.transforms as transforms\n",
    "import matplotlib.pyplot as plt\n",
    "import numpy as np\n",
    "import pandas as pd\n",
    "import time\n",
    "from torch import nn, optim\n",
    "from thop import profile\n",
    "device = 'cuda' if torch.cuda.is_available() else 'cpu'\n",
    "print(torch.__version__)"
   ]
  },
  {
   "cell_type": "code",
   "execution_count": 3,
   "metadata": {
    "ExecuteTime": {
     "end_time": "2021-06-17T05:39:15.444257Z",
     "start_time": "2021-06-17T05:39:15.407829Z"
    }
   },
   "outputs": [],
   "source": [
    "def train_model(model, optimizer, loss, num_epoches=100, verbose=10):\n",
    "    '''\n",
    "    输入\n",
    "    model: 需要训练的模型\n",
    "    optimizer: 优化器\n",
    "    loss: 损失函数\n",
    "    num_epoches: 训练次数\n",
    "    verbose: 训练信息的打印间隔\n",
    "\n",
    "    输出\n",
    "    model: 训练完成的模型\n",
    "    accuracy_train: 训练集正确率\n",
    "    accuracy_test: 测试集正确率\n",
    "    '''\n",
    "    dur = []\n",
    "    for epoch in range(1, num_epoches+1):\n",
    "        # if epoch >= 3:\n",
    "        #     t0 = time.time()\n",
    "        l_sum, n, total_acc = 0.0, 0, 0\n",
    "        t0 = time.time()\n",
    "        for X, y  in trainloader:\n",
    "            X = X.to(device)\n",
    "            y = y.to(device)\n",
    "            y_pred_proba = model(X)\n",
    "            l = loss(y_pred_proba, y)\n",
    "            optimizer.zero_grad()\n",
    "            l.backward()\n",
    "            optimizer.step()\n",
    "            l_sum += l.item()\n",
    "            n += y.shape[0]\n",
    "            y_pred = torch.argmax(y_pred_proba, axis=1)\n",
    "            total_acc += torch.sum(y==y_pred).item()\n",
    "        \n",
    "        dur.append(time.time() - t0)\n",
    "        accuracy_train = total_acc / n\n",
    "        accuracy_test = eval_test(model)\n",
    "        if verbose > 0 and epoch % verbose == 0:\n",
    "            print(\"Epoch {:05d} | Loss {:.4f} | accuracy_train {:.4f} | accuracy_test {:.4f} | Time(s) {:.4f}\".format(\n",
    "                epoch, l_sum/batch_size, accuracy_train, accuracy_test, np.mean(dur)))\n",
    "    return model, accuracy_train, accuracy_test"
   ]
  },
  {
   "cell_type": "code",
   "execution_count": 4,
   "metadata": {
    "ExecuteTime": {
     "end_time": "2021-06-17T05:39:16.156037Z",
     "start_time": "2021-06-17T05:39:16.131531Z"
    }
   },
   "outputs": [],
   "source": [
    "def eval_test(model):\n",
    "    '''\n",
    "    输入:\n",
    "    model: 需要进行测试的模型\n",
    "\n",
    "    输出:\n",
    "    测试集正确率\n",
    "    '''\n",
    "    l_sum, n, total_acc = 0.0, 0, 0\n",
    "    for X, y  in testloader:\n",
    "        X = X.to(device)\n",
    "        y = y.to(device)\n",
    "        y_pred_proba = model(X)\n",
    "        n += y.shape[0]\n",
    "        y_pred = torch.argmax(y_pred_proba, axis=1)\n",
    "        total_acc += torch.sum(y==y_pred).item()\n",
    "    return total_acc/n"
   ]
  },
  {
   "cell_type": "markdown",
   "metadata": {},
   "source": [
    "#### 读取训练集 & 测试集"
   ]
  },
  {
   "cell_type": "code",
   "execution_count": 5,
   "metadata": {
    "ExecuteTime": {
     "end_time": "2021-06-17T05:42:15.331352Z",
     "start_time": "2021-06-17T05:39:22.153005Z"
    }
   },
   "outputs": [
    {
     "name": "stderr",
     "output_type": "stream",
     "text": [
      "\r",
      "0it [00:00, ?it/s]"
     ]
    },
    {
     "name": "stdout",
     "output_type": "stream",
     "text": [
      "Downloading https://www.cs.toronto.edu/~kriz/cifar-10-python.tar.gz to ./data\\cifar-10-python.tar.gz\n"
     ]
    },
    {
     "name": "stderr",
     "output_type": "stream",
     "text": [
      "100%|██████████████████████████████████████████████████████████████▉| 170401792/170498071 [02:49<00:00, 1739538.81it/s]"
     ]
    },
    {
     "name": "stdout",
     "output_type": "stream",
     "text": [
      "Files already downloaded and verified\n"
     ]
    },
    {
     "name": "stderr",
     "output_type": "stream",
     "text": [
      "\r",
      "170500096it [03:00, 1739538.81it/s]                                                                                    "
     ]
    }
   ],
   "source": [
    "transform = transforms.Compose(\n",
    "    [transforms.ToTensor(),\n",
    "    transforms.Normalize((0.5, 0.5, 0.5), (0.5, 0.5, 0.5))]\n",
    ")# 对数据进行标准化 [0, 1] -> [-1, 1]\n",
    "\n",
    "trainset = torchvision.datasets.CIFAR10(root='./data', train=True,\n",
    "                                        download=True, \n",
    "                                        transform=transform)\n",
    "testset = torchvision.datasets.CIFAR10(root='./data', train=False,\n",
    "                                        download=True, \n",
    "                                        transform=transform)"
   ]
  },
  {
   "cell_type": "markdown",
   "metadata": {},
   "source": [
    "trainset 样本数：50000\n",
    "\n",
    "testset 样本数：10000\n",
    "\n",
    "样本维度：n_channels = 3\n",
    "         height = 32\n",
    "         width = 32"
   ]
  },
  {
   "cell_type": "code",
   "execution_count": 6,
   "metadata": {
    "ExecuteTime": {
     "end_time": "2021-06-17T05:42:28.168013Z",
     "start_time": "2021-06-17T05:42:28.151047Z"
    }
   },
   "outputs": [],
   "source": [
    "batch_size = 64\n",
    "trainloader = torch.utils.data.DataLoader(trainset, batch_size=batch_size,\n",
    "                                          shuffle=True, \n",
    "                                          num_workers=0)\n",
    "testloader = torch.utils.data.DataLoader(testset, batch_size=batch_size,\n",
    "                                          shuffle=True, \n",
    "                                          num_workers=0)\n",
    "calsses = ['plane', 'cat', 'bird', 'cat', 'deer', 'dog', 'frog',\n",
    "           'horse', 'ship', 'truck']"
   ]
  },
  {
   "cell_type": "code",
   "execution_count": 7,
   "metadata": {
    "ExecuteTime": {
     "end_time": "2021-06-17T05:42:30.403296Z",
     "start_time": "2021-06-17T05:42:30.015690Z"
    }
   },
   "outputs": [
    {
     "data": {
      "image/png": "[encoded data removed]",
      "text/plain": [
       "<Figure size 432x288 with 1 Axes>"
      ]
     },
     "metadata": {
      "needs_background": "light"
     },
     "output_type": "display_data"
    }
   ],
   "source": [
    "def imshow(img):\n",
    "    img = img/2 + 0.5\n",
    "    npimg = img.numpy()\n",
    "    plt.imshow(np.transpose(npimg, (1, 2, 0)))\n",
    "    plt.show()\n",
    "dataiter = iter(trainloader)\n",
    "images, labels = dataiter.next()\n",
    "imshow(torchvision.utils.make_grid(images))"
   ]
  },
  {
   "cell_type": "markdown",
   "metadata": {},
   "source": [
    "#### Transformer Encoder"
   ]
  },
  {
   "cell_type": "code",
   "execution_count": 8,
   "metadata": {
    "ExecuteTime": {
     "end_time": "2021-06-17T05:42:33.028965Z",
     "start_time": "2021-06-17T05:42:32.998101Z"
    }
   },
   "outputs": [],
   "source": [
    "class ScaledDotProductAttention(nn.Module):\n",
    "    def __init_():\n",
    "        super(ScaledDotProductAttention, self).__init_()\n",
    "    \n",
    "    def forward(self, Q, K, V):\n",
    "        # K (batch_size, n_heads, len_k, d_k)\n",
    "        # Q (batch_size, n_heads, len_q(=len_k), d_q(=d_k)) # n_heads means multi heads\n",
    "        # V (batch_size, n_heads, len_v(=len_k), d_v)\n",
    "        d_k = K.shape[-1]\n",
    "        scores = torch.matmul(Q, K.transpose(-1, -2)) / np.sqrt(d_k) # FLOPs的包计算时考虑不到matmul\n",
    "        # scores(batch_size, n_heads, len_q, len_k)\n",
    "        # scores.masked_fill(attn_mask, -1e9)\n",
    "        attn = F.softmax(scores, dim=-1)\n",
    "        contexts = torch.matmul(attn, V)\n",
    "        # contexts (batch_size, n_heads, len_v(=len_k), d_v)\n",
    "        return contexts, attn"
   ]
  },
  {
   "cell_type": "code",
   "execution_count": 9,
   "metadata": {
    "ExecuteTime": {
     "end_time": "2021-06-17T05:42:33.564402Z",
     "start_time": "2021-06-17T05:42:33.511458Z"
    }
   },
   "outputs": [],
   "source": [
    "class MultHeadAttention(nn.Module):\n",
    "    def __init__(self, d_model, d_k, d_v, n_heads):\n",
    "        super(MultHeadAttention, self).__init__()\n",
    "        self.d_model = d_model\n",
    "        self.d_k = d_k\n",
    "        self.d_v = d_v\n",
    "        self.n_heads = n_heads\n",
    "        self.W_Q = nn.Linear(d_model, d_k * n_heads)\n",
    "        self.W_K = nn.Linear(d_model, d_k * n_heads)\n",
    "        self.W_V = nn.Linear(d_model, d_v * n_heads)\n",
    "        self.fc = nn.Linear(n_heads * d_v, d_model)\n",
    "        self.layer_norm = nn.LayerNorm(d_model)\n",
    "    \n",
    "    def forward(self, Q, K, V):\n",
    "        # K (batch_size, len_k, d_model)\n",
    "        # Q (batch_size, len_q(=len_k), d_model)\n",
    "        \n",
    "        # V (batch_size, len_v(=len_k), d_model)\n",
    "        residual, batch_size = Q, Q.shape[0]\n",
    "        q = self.W_Q(Q).view(batch_size, -1, self.n_heads, self.d_k).transpose(1, 2)\n",
    "        k = self.W_K(K).view(batch_size, -1, self.n_heads, self.d_k).transpose(1, 2)\n",
    "        v = self.W_V(V).view(batch_size, -1, self.n_heads, self.d_v).transpose(1, 2)\n",
    "        # attn_mask = attn_mask.unsqueeze(1).repeat(1, n_heads, 1, 1)\n",
    "        # attn_mask (batch_size, n_heads, len_k, len_q)\n",
    "        context, attn = ScaledDotProductAttention()(q, k, v)\n",
    "        # contexts (batch_size, n_heads, len_v(=len_k), d_v)\n",
    "        context = context.transpose(1, 2).contiguous().view(batch_size, -1, self.n_heads * self.d_v)\n",
    "        # contexts (batch_size, len_v(=len_k), n_heads * d_v)\n",
    "        output = self.fc(context)\n",
    "        # output (batch_size, len_v(=len_k), d_model)\n",
    "        output = output + residual\n",
    "        return self.layer_norm(output), attn\n"
   ]
  },
  {
   "cell_type": "code",
   "execution_count": 10,
   "metadata": {
    "ExecuteTime": {
     "end_time": "2021-06-17T05:42:34.223781Z",
     "start_time": "2021-06-17T05:42:34.199718Z"
    }
   },
   "outputs": [],
   "source": [
    "class PoswiseFeedForwardNet(nn.Module):\n",
    "    def __init__(self, d_model):\n",
    "        super(PoswiseFeedForwardNet, self).__init__()\n",
    "        self.d_model = d_model\n",
    "        self.fc1 = nn.Linear(d_model, d_model)\n",
    "        self.fc2 = nn.Linear(d_model, d_model)\n",
    "        self.layer_norm = nn.LayerNorm(d_model)\n",
    "    def forward(self, inputs):\n",
    "        # inputs (batch_size, len_q, d_model)\n",
    "        residual = inputs\n",
    "        output = self.fc1(inputs)\n",
    "        output = F.relu(output)\n",
    "        output = self.fc2(output)\n",
    "        return self.layer_norm(output + residual)"
   ]
  },
  {
   "cell_type": "code",
   "execution_count": 11,
   "metadata": {
    "ExecuteTime": {
     "end_time": "2021-06-17T05:42:34.919845Z",
     "start_time": "2021-06-17T05:42:34.892872Z"
    }
   },
   "outputs": [],
   "source": [
    "class EncoderLayer(nn.Module):\n",
    "    def __init__(self, d_model, d_k, d_v, n_heads):\n",
    "        super(EncoderLayer, self).__init__()\n",
    "        self.d_model = d_model\n",
    "        self.d_k = d_k\n",
    "        self.d_v = d_v\n",
    "        self.n_heads = n_heads\n",
    "        self.enc_self_attn = MultHeadAttention(d_model, d_k, d_v, n_heads)\n",
    "        self.pos_ffn = PoswiseFeedForwardNet(d_model)\n",
    "    \n",
    "    def forward(self, enc_inputs):\n",
    "        # enc_inputs (batch_size, len_k, d_model)\n",
    "        enc_outputs, attn = self.enc_self_attn(enc_inputs, enc_inputs, enc_inputs)\n",
    "        enc_outputs = self.pos_ffn(enc_outputs)\n",
    "        # enc_outputs (batch_size, len_q, d_model)\n",
    "        return enc_outputs, attn"
   ]
  },
  {
   "cell_type": "code",
   "execution_count": 12,
   "metadata": {
    "ExecuteTime": {
     "end_time": "2021-06-17T05:42:35.581316Z",
     "start_time": "2021-06-17T05:42:35.549049Z"
    }
   },
   "outputs": [],
   "source": [
    "class Encoder(nn.Module):\n",
    "    def __init__(self, n, d_model, d_k, d_v, n_heads, n_layers):\n",
    "        super(Encoder, self).__init__()\n",
    "        # self.src_emb = nn.Embedding(n, d_model)\n",
    "        # self.pos_emb = nn.Embedding.from_pretrained(get_sinusoid_encoding_table(n+1, d_model),freeze=True)\n",
    "        self.n_layers = n_layers\n",
    "        self.layers = nn.ModuleList([EncoderLayer(d_model,d_k, d_v, n_heads) for _ in range(n_layers)])\n",
    "        # self.position = torch.LongTensor([[i for i in range(1, n+1)]]).to(device)\n",
    "        self.position = nn.Parameter(torch.randn(1, n+1, d_model))\n",
    "    def forward(self, enc_inputs):\n",
    "        # enc_inputs (batch_size, h*w, patch_height*patch_width*in_channels)\n",
    "        # enc_outputs = self.src_emb(enc_inputs) + self.pos_emb(torch.LongTensor([[1,2,3,4,0]]))\n",
    "        batch_size, n, _ = enc_inputs.shape\n",
    "        # pos_emb_vec = self.pos_emb(self.position)\n",
    "        enc_outputs = enc_inputs + self.position[:, :n]\n",
    "        # enc_self_attn_mask = get_attn_pad_mask(enc_inputs, enc_inputs)\n",
    "        enc_self_attns = []\n",
    "        for layer in self.layers:\n",
    "            enc_outputs, enc_self_attn = layer(enc_outputs)\n",
    "            enc_self_attns.append(enc_self_attn)\n",
    "        return enc_outputs, enc_self_attns"
   ]
  },
  {
   "cell_type": "markdown",
   "metadata": {},
   "source": [
    "#### VGG16"
   ]
  },
  {
   "cell_type": "code",
   "execution_count": 13,
   "metadata": {
    "ExecuteTime": {
     "end_time": "2021-06-17T05:42:38.365876Z",
     "start_time": "2021-06-17T05:42:38.303100Z"
    }
   },
   "outputs": [],
   "source": [
    "class vgg_cell(nn.Module):\n",
    "    def __init__(self, in_channels, out_channels, kernel_size=3,\n",
    "                stride=1, padding=1, pool=False, kernel_size_pool=2,\n",
    "                stride_pool=2, padding_pool=0):\n",
    "        super(vgg_cell, self).__init__()\n",
    "        self.net = nn.ModuleList([\n",
    "            nn.Conv2d(in_channels=in_channels,\n",
    "                      out_channels=out_channels,\n",
    "                      kernel_size=kernel_size,\n",
    "                      stride=stride,\n",
    "                      padding=padding),\n",
    "            nn.BatchNorm2d(out_channels),\n",
    "            nn.ReLU()\n",
    "        ])\n",
    "        if pool:\n",
    "            self.net.append(nn.MaxPool2d(kernel_size=kernel_size_pool,\n",
    "                                         stride=stride_pool,\n",
    "                                         padding=padding_pool))\n",
    "        self.net = nn.Sequential(*self.net)\n",
    "    def forward(self, x):\n",
    "        # x: (batch_size, n_channels, h, w)\n",
    "        x = self.net(x)\n",
    "        return x\n",
    "\n",
    "class vgg(nn.Module):\n",
    "    def __init__(self, config, num_classes=10):\n",
    "        super(vgg, self).__init__()\n",
    "        self.num_classes = num_classes\n",
    "        self.net = nn.ModuleList([])\n",
    "        for in_channels, out_channels, kernel_size, stride, padding, pool in config:\n",
    "            self.net.append(vgg_cell(in_channels=in_channels,\n",
    "                                     out_channels=out_channels,\n",
    "                                     kernel_size=kernel_size,\n",
    "                                     stride=stride,\n",
    "                                     padding=padding,\n",
    "                                     pool=pool))\n",
    "        # self.avgpool = nn.AdaptiveAvgPool2d(output_size=(7, 7))\n",
    "        # self.fc1 = nn.Linear(25088, 4096, bias=True)\n",
    "        # self.fc2 = nn.Linear(4096, 4096, bias=True)\n",
    "        # self.fc3 = nn.Linear(4096, 1000, bias=True)\n",
    "        self.output_layer = nn.Linear(512, self.num_classes)\n",
    "        self._initialize_weights()\n",
    "\n",
    "    def _initialize_weights(self):\n",
    "        for m in self.modules():\n",
    "            if isinstance(m, nn.Conv2d):\n",
    "                nn.init.kaiming_normal_(m.weight, mode='fan_out', nonlinearity='relu')\n",
    "                if m.bias is not None:\n",
    "                    nn.init.constant_(m.bias, 0)\n",
    "            elif isinstance(m, nn.BatchNorm2d):\n",
    "                nn.init.constant_(m.weight, 1)\n",
    "                nn.init.constant_(m.bias, 0)\n",
    "            elif isinstance(m, nn.Linear):\n",
    "                nn.init.normal_(m.weight, 0, 0.01)\n",
    "                nn.init.constant_(m.bias, 0)\n",
    "\n",
    "    def forward(self, x, mlp=True):\n",
    "        batch_size = x.shape[0]\n",
    "        for cell in self.net:\n",
    "            x = cell(x)\n",
    "        if mlp:\n",
    "            x = x.view(batch_size, -1)\n",
    "            x = self.output_layer(x)\n",
    "        return x"
   ]
  },
  {
   "cell_type": "markdown",
   "metadata": {},
   "source": [
    "#### ViT"
   ]
  },
  {
   "cell_type": "code",
   "execution_count": 14,
   "metadata": {
    "ExecuteTime": {
     "end_time": "2021-06-17T05:42:40.465919Z",
     "start_time": "2021-06-17T05:42:40.429016Z"
    }
   },
   "outputs": [],
   "source": [
    "class ViT(nn.Module):\n",
    "    def __init__(self, image_size, in_channels, patch_size, num_classes, \n",
    "                 dim, depth, heads, mlp_dim, d_k=64, d_v=64, \n",
    "                 dropout=0, emb_dropout=0):\n",
    "        super(ViT, self).__init__()\n",
    "        image_height, image_width = image_size\n",
    "        patch_height, patch_width = patch_size\n",
    "        num_pathes = (image_height // patch_height) * (image_width // patch_width)\n",
    "        patch_dim = in_channels * patch_height * patch_width\n",
    "        self.num_pathes = num_pathes\n",
    "        self.patch_dim = patch_dim\n",
    "        self.to_patch_layer = nn.Linear(patch_dim, dim)\n",
    "        self.cls_token = nn.Parameter(torch.randn(1, 1, dim))\n",
    "        self.dropout = nn.Dropout(emb_dropout)\n",
    "        self.transformer = Encoder(n=num_pathes+1,\n",
    "                                    d_model=dim, \n",
    "                                    d_k=d_k, \n",
    "                                    d_v=d_v, \n",
    "                                    n_heads=heads, \n",
    "                                    n_layers=depth)\n",
    "        # self.transformer_layer = nn.TransformerEncoderLayer(d_model=dim, nhead=heads)\n",
    "        # self.transformer = nn.TransformerEncoder(self.transformer_layer, num_layers=depth, norm=nn.LayerNorm(dim))\n",
    "        self.mlp_head = nn.Sequential(\n",
    "            nn.LayerNorm(dim),\n",
    "            nn.Linear(dim, num_classes)\n",
    "        )\n",
    "    \n",
    "    def forward(self, img):\n",
    "        batch_size = img.shape[0]\n",
    "        img = img.view(batch_size, self.num_pathes, self.patch_dim)\n",
    "        x = self.to_patch_layer(img)\n",
    "        # cls_tokens = self.cls_token.repeat(batch_size, 1, 1)\n",
    "        # x = torch.cat((cls_tokens, x), dim=1)\n",
    "        # x = self.dropout(x)\n",
    "        x, _ = self.transformer(x)\n",
    "        x = x.mean(dim=1)\n",
    "        x = self.mlp_head(x)\n",
    "        return x"
   ]
  },
  {
   "cell_type": "markdown",
   "metadata": {},
   "source": [
    "#### ViT FLOPs"
   ]
  },
  {
   "cell_type": "code",
   "execution_count": 15,
   "metadata": {
    "ExecuteTime": {
     "end_time": "2021-06-17T05:42:41.550166Z",
     "start_time": "2021-06-17T05:42:41.465458Z"
    }
   },
   "outputs": [
    {
     "name": "stdout",
     "output_type": "stream",
     "text": [
      "36717824\n",
      "[INFO] Register count_linear() for <class 'torch.nn.modules.linear.Linear'>.\n",
      "[INFO] Register zero_ops() for <class 'torch.nn.modules.dropout.Dropout'>.\n",
      "\u001b[91m[WARN] Cannot find rule for <class 'torch.nn.modules.normalization.LayerNorm'>. Treat it as zero Macs and zero Params.\u001b[00m\n",
      "\u001b[91m[WARN] Cannot find rule for <class '__main__.MultHeadAttention'>. Treat it as zero Macs and zero Params.\u001b[00m\n",
      "\u001b[91m[WARN] Cannot find rule for <class '__main__.PoswiseFeedForwardNet'>. Treat it as zero Macs and zero Params.\u001b[00m\n",
      "\u001b[91m[WARN] Cannot find rule for <class '__main__.EncoderLayer'>. Treat it as zero Macs and zero Params.\u001b[00m\n",
      "\u001b[91m[WARN] Cannot find rule for <class 'torch.nn.modules.container.ModuleList'>. Treat it as zero Macs and zero Params.\u001b[00m\n",
      "\u001b[91m[WARN] Cannot find rule for <class '__main__.Encoder'>. Treat it as zero Macs and zero Params.\u001b[00m\n",
      "\u001b[91m[WARN] Cannot find rule for <class 'torch.nn.modules.container.Sequential'>. Treat it as zero Macs and zero Params.\u001b[00m\n",
      "\u001b[91m[WARN] Cannot find rule for <class '__main__.ViT'>. Treat it as zero Macs and zero Params.\u001b[00m\n",
      "32507136.0 513162.0\n"
     ]
    }
   ],
   "source": [
    "def calc_vit_flops(vit_params, batch_size):\n",
    "    in_channels = vit_params['in_channels']\n",
    "    patch_height, patch_width = vit_params['patch_size']\n",
    "    image_height, image_width = vit_params['image_size']\n",
    "    num_pathes = (image_height // patch_height) * (image_width // patch_width)\n",
    "    patch_dim = in_channels * patch_height * patch_width\n",
    "\n",
    "    d_model = vit_params['dim']\n",
    "    num_classes = vit_params['num_classes']\n",
    "    d_k = vit_params['d_k']\n",
    "    d_q = d_k\n",
    "    d_v = vit_params['d_v']\n",
    "    heads = vit_params['heads']\n",
    "    depth = vit_params['depth']\n",
    "    len_k, len_q, len_v = num_pathes, num_pathes, num_pathes\n",
    "\n",
    "    '''\n",
    "    batch_size * patch_dim * d_model +\n",
    "    (拉平操作)\n",
    "\n",
    "    (batch_size * d_model * heads * (len_k * d_k + len_q * d_q + len_v * d_v) + \n",
    "    (生成 key, query, value矩阵)\n",
    "\n",
    "    batch_size * heads * len_q * d_k * len_k + \n",
    "    (使用key, query计算attention)\n",
    "\n",
    "    batch_size * heads * len_q * len_k * d_v + batch_size * len_q * heads * d_v * d_model + \n",
    "    (使用attention, value计算 output)\n",
    "\n",
    "    batch_size * len_q * d_model * d_model * 2) * depth + \n",
    "    (FeedForward)\n",
    "\n",
    "    batch_size * d_model * num_classes\n",
    "    (最终输出)\n",
    "    '''\n",
    "\n",
    "    FLOPs = batch_size * patch_dim * d_model + \\\n",
    "            (batch_size * d_model * heads * (len_k * d_k + len_q * d_q + len_v * d_v) + \\\n",
    "            batch_size * heads * len_q * d_k * len_k + \\\n",
    "            batch_size * heads * len_q * len_k * d_v + batch_size * len_q * heads * d_v * d_model + \\\n",
    "            batch_size * len_q * d_model * d_model * 2) * depth + \\\n",
    "            batch_size * d_model * num_classes\n",
    "\n",
    "    return FLOPs\n",
    "\n",
    "vit_params = {\n",
    "            'image_size': (8, 8), \n",
    "            'in_channels': 128, \n",
    "            'patch_size': (1, 1), \n",
    "            'num_classes': 10, \n",
    "            'dim': 128, \n",
    "            'depth': 5, \n",
    "            'heads': 4,\n",
    "            'mlp_dim': 128, \n",
    "            'd_k': 32,\n",
    "            'd_v': 32, \n",
    "            'dropout': 0}\n",
    "img = torch.randn(1, 128, 8, 8)\n",
    "model_vit = ViT(**vit_params)\n",
    "print(calc_vit_flops(vit_params, 1))\n",
    "flops, params = profile(model_vit, inputs=(img, ))\n",
    "print(flops, params)"
   ]
  },
  {
   "cell_type": "markdown",
   "metadata": {},
   "source": [
    "### Model A"
   ]
  },
  {
   "cell_type": "code",
   "execution_count": 16,
   "metadata": {
    "ExecuteTime": {
     "end_time": "2021-06-17T05:42:51.253987Z",
     "start_time": "2021-06-17T05:42:51.173107Z"
    }
   },
   "outputs": [],
   "source": [
    "class vgg_vit(nn.Module):\n",
    "    def __init__(self, vgg_params, vit_params):\n",
    "        super(vgg_vit, self).__init__()\n",
    "        self.vgg = vgg(**vgg_params)\n",
    "        self.vit = ViT(**vit_params)\n",
    "    def forward(self, img):\n",
    "        x = self.vgg(img, mlp=False)\n",
    "        x = self.vit(x)\n",
    "        return x\n",
    "\n",
    "vgg_params ={\n",
    "    'config': [\n",
    "    (3, 64, 3, 1, 1, False),    #3 3\n",
    "    (64, 64, 3, 1, 1, True),    #4 7\n",
    "    (64, 128, 3, 1, 1, False),  #3 10\n",
    "    (128, 128, 3, 1, 1, True),  #4 14\n",
    "    # (128, 256, 3, 1, 1, False), #3 17\n",
    "    # (256, 256, 3, 1, 1, False), #3 20\n",
    "    # (256, 256, 3, 1, 1, True),  #4 24\n",
    "    # (256, 512, 3, 1, 1, False), #3 27\n",
    "    # (512, 512, 3, 1, 1, False), #3 30\n",
    "    # (512, 512, 3, 1, 1, True),  #4 34\n",
    "    # (512, 512, 3, 1, 1, False), #3 37\n",
    "    # (512, 512, 3, 1, 1, False), #3 40\n",
    "    # (512, 512, 3, 1, 1, True),  #4 44\n",
    "    ], \n",
    "    'num_classes': 10\n",
    "    }\n",
    "\n",
    "vit_params = {\n",
    "            'image_size': (8, 8), \n",
    "            'in_channels': 128, \n",
    "            'patch_size': (1, 1), \n",
    "            'num_classes': 10, \n",
    "            'dim': 128, \n",
    "            'depth': 5, \n",
    "            'heads': 4,\n",
    "            'mlp_dim': 128, \n",
    "            'd_k': 32,\n",
    "            'd_v': 32, \n",
    "            'dropout': 0}\n",
    "'''\n",
    "卷积层输入为(batch_size, 3, 32, 32)\n",
    "卷积层输出为(batch_size, 128, 8, 8)\n",
    "Transformer输入为(batch_size, 128, 8, 8) -> (batch_size, 64, 128)\n",
    "'''\n",
    "model_A = vgg_vit(vgg_params, vit_params)\n",
    "model_vgg = vgg(**vgg_params)"
   ]
  },
  {
   "cell_type": "code",
   "execution_count": 17,
   "metadata": {
    "ExecuteTime": {
     "end_time": "2021-06-17T05:42:52.135587Z",
     "start_time": "2021-06-17T05:42:51.957108Z"
    }
   },
   "outputs": [
    {
     "name": "stdout",
     "output_type": "stream",
     "text": [
      "[INFO] Register count_convNd() for <class 'torch.nn.modules.conv.Conv2d'>.\n",
      "[INFO] Register count_bn() for <class 'torch.nn.modules.batchnorm.BatchNorm2d'>.\n",
      "[INFO] Register zero_ops() for <class 'torch.nn.modules.activation.ReLU'>.\n",
      "\u001b[91m[WARN] Cannot find rule for <class 'torch.nn.modules.container.Sequential'>. Treat it as zero Macs and zero Params.\u001b[00m\n",
      "\u001b[91m[WARN] Cannot find rule for <class '__main__.vgg_cell'>. Treat it as zero Macs and zero Params.\u001b[00m\n",
      "[INFO] Register zero_ops() for <class 'torch.nn.modules.pooling.MaxPool2d'>.\n",
      "\u001b[91m[WARN] Cannot find rule for <class 'torch.nn.modules.container.ModuleList'>. Treat it as zero Macs and zero Params.\u001b[00m\n",
      "[INFO] Register count_linear() for <class 'torch.nn.modules.linear.Linear'>.\n",
      "\u001b[91m[WARN] Cannot find rule for <class '__main__.vgg'>. Treat it as zero Macs and zero Params.\u001b[00m\n",
      "[INFO] Register count_convNd() for <class 'torch.nn.modules.conv.Conv2d'>.\n",
      "[INFO] Register count_bn() for <class 'torch.nn.modules.batchnorm.BatchNorm2d'>.\n",
      "[INFO] Register zero_ops() for <class 'torch.nn.modules.activation.ReLU'>.\n",
      "\u001b[91m[WARN] Cannot find rule for <class 'torch.nn.modules.container.Sequential'>. Treat it as zero Macs and zero Params.\u001b[00m\n",
      "\u001b[91m[WARN] Cannot find rule for <class '__main__.vgg_cell'>. Treat it as zero Macs and zero Params.\u001b[00m\n",
      "[INFO] Register zero_ops() for <class 'torch.nn.modules.pooling.MaxPool2d'>.\n",
      "\u001b[91m[WARN] Cannot find rule for <class 'torch.nn.modules.container.ModuleList'>. Treat it as zero Macs and zero Params.\u001b[00m\n",
      "[INFO] Register count_linear() for <class 'torch.nn.modules.linear.Linear'>.\n",
      "\u001b[91m[WARN] Cannot find rule for <class '__main__.vgg'>. Treat it as zero Macs and zero Params.\u001b[00m\n",
      "[INFO] Register zero_ops() for <class 'torch.nn.modules.dropout.Dropout'>.\n",
      "\u001b[91m[WARN] Cannot find rule for <class 'torch.nn.modules.normalization.LayerNorm'>. Treat it as zero Macs and zero Params.\u001b[00m\n",
      "\u001b[91m[WARN] Cannot find rule for <class '__main__.MultHeadAttention'>. Treat it as zero Macs and zero Params.\u001b[00m\n",
      "\u001b[91m[WARN] Cannot find rule for <class '__main__.PoswiseFeedForwardNet'>. Treat it as zero Macs and zero Params.\u001b[00m\n",
      "\u001b[91m[WARN] Cannot find rule for <class '__main__.EncoderLayer'>. Treat it as zero Macs and zero Params.\u001b[00m\n",
      "\u001b[91m[WARN] Cannot find rule for <class '__main__.Encoder'>. Treat it as zero Macs and zero Params.\u001b[00m\n",
      "\u001b[91m[WARN] Cannot find rule for <class '__main__.ViT'>. Treat it as zero Macs and zero Params.\u001b[00m\n",
      "\u001b[91m[WARN] Cannot find rule for <class '__main__.vgg_vit'>. Treat it as zero Macs and zero Params.\u001b[00m\n",
      "Model A Params Num:  774090.0\n",
      "Model A FLOPS:  133448960.0\n"
     ]
    }
   ],
   "source": [
    "img = torch.randn(1, 3, 32, 32)\n",
    "vgg_flops, vgg_params_num = profile(model_vgg, inputs=(img, False))\n",
    "vit_flops = calc_vit_flops(vit_params, 1)\n",
    "model_A_flops = vgg_flops + vit_flops\n",
    "_, model_A_params_num = profile(model_A, inputs=(img, ))\n",
    "print('Model A Params Num: ', model_A_params_num)\n",
    "print('Model A FLOPS: ', model_A_flops)"
   ]
  },
  {
   "cell_type": "markdown",
   "metadata": {},
   "source": [
    "### Model B"
   ]
  },
  {
   "cell_type": "code",
   "execution_count": 18,
   "metadata": {
    "ExecuteTime": {
     "end_time": "2021-06-17T05:43:03.232317Z",
     "start_time": "2021-06-17T05:43:03.164052Z"
    }
   },
   "outputs": [],
   "source": [
    "class vgg_fc(nn.Module):\n",
    "    def __init__(self, vgg_params):\n",
    "        super(vgg_fc, self).__init__()\n",
    "        self.vgg = vgg(**vgg_params)\n",
    "        self.fc1 = nn.Linear(8192, 63)\n",
    "        self.fc2 = nn.Linear(63, 10)\n",
    "    def forward(self, img):\n",
    "        batch_size = img.shape[0]\n",
    "        x = self.vgg(img, mlp=False)\n",
    "        x = x.view(batch_size, -1)\n",
    "        x = self.fc2(self.fc1(x))\n",
    "        return x\n",
    "\n",
    "vgg_params ={\n",
    "    'config': [\n",
    "    (3, 64, 3, 1, 1, False),    #3 3\n",
    "    (64, 64, 3, 1, 1, True),    #4 7\n",
    "    (64, 128, 3, 1, 1, False),  #3 10\n",
    "    (128, 128, 3, 1, 1, True),  #4 14\n",
    "    # (128, 256, 3, 1, 1, False), #3 17\n",
    "    # (256, 256, 3, 1, 1, False), #3 20\n",
    "    # (256, 256, 3, 1, 1, True),  #4 24\n",
    "    # (256, 512, 3, 1, 1, False), #3 27\n",
    "    # (512, 512, 3, 1, 1, False), #3 30\n",
    "    # (512, 512, 3, 1, 1, True),  #4 34\n",
    "    # (512, 512, 3, 1, 1, False), #3 37\n",
    "    # (512, 512, 3, 1, 1, False), #3 40\n",
    "    # (512, 512, 3, 1, 1, True),  #4 44\n",
    "    ], \n",
    "    'num_classes': 10\n",
    "    }\n",
    "model_B = vgg_fc(vgg_params)"
   ]
  },
  {
   "cell_type": "code",
   "execution_count": 19,
   "metadata": {
    "ExecuteTime": {
     "end_time": "2021-06-17T05:43:04.965197Z",
     "start_time": "2021-06-17T05:43:04.923792Z"
    }
   },
   "outputs": [
    {
     "name": "stdout",
     "output_type": "stream",
     "text": [
      "[INFO] Register count_convNd() for <class 'torch.nn.modules.conv.Conv2d'>.\n",
      "[INFO] Register count_bn() for <class 'torch.nn.modules.batchnorm.BatchNorm2d'>.\n",
      "[INFO] Register zero_ops() for <class 'torch.nn.modules.activation.ReLU'>.\n",
      "\u001b[91m[WARN] Cannot find rule for <class 'torch.nn.modules.container.Sequential'>. Treat it as zero Macs and zero Params.\u001b[00m\n",
      "\u001b[91m[WARN] Cannot find rule for <class '__main__.vgg_cell'>. Treat it as zero Macs and zero Params.\u001b[00m\n",
      "[INFO] Register zero_ops() for <class 'torch.nn.modules.pooling.MaxPool2d'>.\n",
      "\u001b[91m[WARN] Cannot find rule for <class 'torch.nn.modules.container.ModuleList'>. Treat it as zero Macs and zero Params.\u001b[00m\n",
      "[INFO] Register count_linear() for <class 'torch.nn.modules.linear.Linear'>.\n",
      "\u001b[91m[WARN] Cannot find rule for <class '__main__.vgg'>. Treat it as zero Macs and zero Params.\u001b[00m\n",
      "\u001b[91m[WARN] Cannot find rule for <class '__main__.vgg_fc'>. Treat it as zero Macs and zero Params.\u001b[00m\n",
      "Model B Params Num:  777727.0\n",
      "Model B FLOPS:  97247862.0\n"
     ]
    }
   ],
   "source": [
    "img = torch.randn(1, 3, 32, 32)\n",
    "model_B_flops, model_B_params_num = profile(model_B, inputs=(img, ))\n",
    "print('Model B Params Num: ', model_B_params_num)\n",
    "print('Model B FLOPS: ', model_B_flops)"
   ]
  },
  {
   "cell_type": "markdown",
   "metadata": {},
   "source": [
    "### Model C"
   ]
  },
  {
   "cell_type": "code",
   "execution_count": 20,
   "metadata": {
    "ExecuteTime": {
     "end_time": "2021-06-17T05:45:39.160775Z",
     "start_time": "2021-06-17T05:45:38.822111Z"
    }
   },
   "outputs": [],
   "source": [
    "class vgg_fc_FLOPs(nn.Module):\n",
    "    def __init__(self, vgg_params):\n",
    "        super(vgg_fc_FLOPs, self).__init__()\n",
    "        self.vgg = vgg(**vgg_params)\n",
    "        self.fc1 = nn.Linear(8192, 4096)\n",
    "        self.fc2 = nn.Linear(4096, 768)\n",
    "        self.fc3 = nn.Linear(768, 10)\n",
    "    def forward(self, img):\n",
    "        batch_size = img.shape[0]\n",
    "        x = self.vgg(img, mlp=False)\n",
    "        x = x.view(batch_size, -1)\n",
    "        x = self.fc3(self.fc2(self.fc1(x)))\n",
    "        return x\n",
    "\n",
    "vgg_params ={\n",
    "    'config': [\n",
    "    (3, 64, 3, 1, 1, False),    #3 3\n",
    "    (64, 64, 3, 1, 1, True),    #4 7\n",
    "    (64, 128, 3, 1, 1, False),  #3 10\n",
    "    (128, 128, 3, 1, 1, True),  #4 14\n",
    "    # (128, 256, 3, 1, 1, False), #3 17\n",
    "    # (256, 256, 3, 1, 1, False), #3 20\n",
    "    # (256, 256, 3, 1, 1, True),  #4 24\n",
    "    # (256, 512, 3, 1, 1, False), #3 27\n",
    "    # (512, 512, 3, 1, 1, False), #3 30\n",
    "    # (512, 512, 3, 1, 1, True),  #4 34\n",
    "    # (512, 512, 3, 1, 1, False), #3 37\n",
    "    # (512, 512, 3, 1, 1, False), #3 40\n",
    "    # (512, 512, 3, 1, 1, True),  #4 44\n",
    "    ], \n",
    "    'num_classes': 10\n",
    "    }\n",
    "model_C = vgg_fc_FLOPs(vgg_params)"
   ]
  },
  {
   "cell_type": "code",
   "execution_count": 21,
   "metadata": {
    "ExecuteTime": {
     "end_time": "2021-06-17T05:45:39.366130Z",
     "start_time": "2021-06-17T05:45:39.291764Z"
    }
   },
   "outputs": [
    {
     "name": "stdout",
     "output_type": "stream",
     "text": [
      "[INFO] Register count_convNd() for <class 'torch.nn.modules.conv.Conv2d'>.\n",
      "[INFO] Register count_bn() for <class 'torch.nn.modules.batchnorm.BatchNorm2d'>.\n",
      "[INFO] Register zero_ops() for <class 'torch.nn.modules.activation.ReLU'>.\n",
      "\u001b[91m[WARN] Cannot find rule for <class 'torch.nn.modules.container.Sequential'>. Treat it as zero Macs and zero Params.\u001b[00m\n",
      "\u001b[91m[WARN] Cannot find rule for <class '__main__.vgg_cell'>. Treat it as zero Macs and zero Params.\u001b[00m\n",
      "[INFO] Register zero_ops() for <class 'torch.nn.modules.pooling.MaxPool2d'>.\n",
      "\u001b[91m[WARN] Cannot find rule for <class 'torch.nn.modules.container.ModuleList'>. Treat it as zero Macs and zero Params.\u001b[00m\n",
      "[INFO] Register count_linear() for <class 'torch.nn.modules.linear.Linear'>.\n",
      "\u001b[91m[WARN] Cannot find rule for <class '__main__.vgg'>. Treat it as zero Macs and zero Params.\u001b[00m\n",
      "\u001b[91m[WARN] Cannot find rule for <class '__main__.vgg_fc_FLOPs'>. Treat it as zero Macs and zero Params.\u001b[00m\n",
      "Model C Params Num:  36973642.0\n",
      "Model C FLOPS:  133438976.0\n"
     ]
    }
   ],
   "source": [
    "img = torch.randn(1, 3, 32, 32)\n",
    "model_C_flops, model_C_params_num = profile(model_C, inputs=(img, ))\n",
    "print('Model C Params Num: ', model_C_params_num)\n",
    "print('Model C FLOPS: ', model_C_flops)"
   ]
  },
  {
   "cell_type": "code",
   "execution_count": 22,
   "metadata": {
    "ExecuteTime": {
     "end_time": "2021-06-17T05:45:40.122180Z",
     "start_time": "2021-06-17T05:45:40.101190Z"
    }
   },
   "outputs": [
    {
     "name": "stdout",
     "output_type": "stream",
     "text": [
      "Model A Params Num:  774090.0\n",
      "Model B Params Num:  777727.0\n"
     ]
    }
   ],
   "source": [
    "print('Model A Params Num: ', model_A_params_num)\n",
    "print('Model B Params Num: ', model_B_params_num)"
   ]
  },
  {
   "cell_type": "code",
   "execution_count": 23,
   "metadata": {
    "ExecuteTime": {
     "end_time": "2021-06-17T05:45:40.847391Z",
     "start_time": "2021-06-17T05:45:40.826979Z"
    }
   },
   "outputs": [
    {
     "name": "stdout",
     "output_type": "stream",
     "text": [
      "Model A FLOPS:  133448960.0\n",
      "Model C FLOPS:  133438976.0\n"
     ]
    }
   ],
   "source": [
    "print('Model A FLOPS: ', model_A_flops)\n",
    "print('Model C FLOPS: ', model_C_flops)"
   ]
  },
  {
   "cell_type": "code",
   "execution_count": null,
   "metadata": {},
   "outputs": [],
   "source": []
  }
 ],
 "metadata": {
  "kernelspec": {
   "display_name": "Python 3",
   "language": "python",
   "name": "python3"
  },
  "language_info": {
   "codemirror_mode": {
    "name": "ipython",
    "version": 3
   },
   "file_extension": ".py",
   "mimetype": "text/x-python",
   "name": "python",
   "nbconvert_exporter": "python",
   "pygments_lexer": "ipython3",
   "version": "3.7.4"
  },
  "toc": {
   "base_numbering": 1,
   "nav_menu": {},
   "number_sections": true,
   "sideBar": true,
   "skip_h1_title": false,
   "title_cell": "Table of Contents",
   "title_sidebar": "Contents",
   "toc_cell": false,
   "toc_position": {},
   "toc_section_display": true,
   "toc_window_display": false
  }
 },
 "nbformat": 4,
 "nbformat_minor": 2
}
